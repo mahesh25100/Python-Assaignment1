{
 "cells": [
  {
   "cell_type": "code",
   "execution_count": 1,
   "metadata": {},
   "outputs": [
    {
     "name": "stdout",
     "output_type": "stream",
     "text": [
      "number of notes \n",
      "2000 : 1\n",
      "500 : 1\n"
     ]
    }
   ],
   "source": [
    "#problem1\n",
    "\n",
    "def countNotes(amount): \n",
    "      \n",
    "    notes = [2000, 500, 200, 100, 50, 20, 10] \n",
    "                 \n",
    "    noteCounter = [0, 0, 0, 0, 0, 0] \n",
    "      \n",
    "    print (\"number of notes \") \n",
    "      \n",
    "    for i, j in zip(notes, noteCounter): \n",
    "        if amount >= i: \n",
    "            j = amount // i \n",
    "            amount = amount- j*i \n",
    "            print (i,\":\",j) \n",
    " \n",
    "amount = 2500\n",
    "countNotes(amount)\n"
   ]
  },
  {
   "cell_type": "code",
   "execution_count": 2,
   "metadata": {},
   "outputs": [
    {
     "name": "stdout",
     "output_type": "stream",
     "text": [
      "a\n"
     ]
    }
   ],
   "source": [
    "#program2\n",
    "\n",
    "def get_max_occuring_char(str1):\n",
    "  ASCII_SIZE = 256\n",
    "  ctr = [0] * ASCII_SIZE\n",
    "  max = -1\n",
    "  ch = ''\n",
    "  for i in str1:\n",
    "    ctr[ord(i)]+=1;\n",
    " \n",
    "  for i in str1:\n",
    "    if max < ctr[ord(i)]:\n",
    "      max = ctr[ord(i)]\n",
    "      ch = i\n",
    "  return ch\n",
    "print(get_max_occuring_char(\"aaaaaaaabbbcddddeeee\"))\n"
   ]
  },
  {
   "cell_type": "code",
   "execution_count": 10,
   "metadata": {},
   "outputs": [
    {
     "name": "stdout",
     "output_type": "stream",
     "text": [
      "[1, 3, 4]\n",
      "2\n"
     ]
    }
   ],
   "source": [
    "#program3\n",
    "\n",
    "\n",
    "numbers = [1,2,3,4,5]\n",
    "count = 0\n",
    "for i in numbers:\n",
    "    if i % 2:\n",
    "        numbers.pop(i)\n",
    "        count += 1\n",
    "   \n",
    "print(numbers)\n",
    "print(count)"
   ]
  },
  {
   "cell_type": "code",
   "execution_count": 21,
   "metadata": {},
   "outputs": [
    {
     "name": "stdout",
     "output_type": "stream",
     "text": [
      "cities = {'Concord': ['New Hampshire', 'Massachusetts'], 'Hanover': 'New Hampshire', 'Boston': 'Massachusetts', 'Springfield': ['Massachusetts', 'Illinois'], 'Chicago': 'Illinois', 'Peoria': 'Illinois'}\n"
     ]
    }
   ],
   "source": [
    "#program4\n",
    "\n",
    "\n",
    "states = {'New Hampshire': ['Concord', 'Hanover'],'Massachusetts': ['Boston', 'Concord', 'Springfield'],\n",
    "           'Illinois': ['Chicago', 'Springfield', 'Peoria'] }\n",
    "\n",
    "cities = {}\n",
    "for k,v in states.items():\n",
    "    for i in v:\n",
    "        if i in cities:\n",
    "            cities[i] = [cities[i],k]\n",
    "        else:\n",
    "            cities[i] = k;\n",
    "print(\"cities = {}\".format(cities))"
   ]
  },
  {
   "cell_type": "code",
   "execution_count": 25,
   "metadata": {},
   "outputs": [
    {
     "name": "stdout",
     "output_type": "stream",
     "text": [
      "Acme\n"
     ]
    }
   ],
   "source": [
    "#program5\n",
    "\n",
    "restaurants = [ [ \"Acme\", \"Italian\", 2, 4, 3, 5],[ \"Flintstone\", \"Steak\", 5, 2, 4, 3, 3, 4],\n",
    "               [ \"BellaTroy\", \"Italian\", 1, 4, 5] ]\n",
    "\n",
    "for i in restaurants:\n",
    "    if(i[1] == \"Italian\"):\n",
    "        if 1 not in i[2:] and 5 in i[2:]:\n",
    "            print(i[0] )"
   ]
  },
  {
   "cell_type": "code",
   "execution_count": null,
   "metadata": {},
   "outputs": [],
   "source": []
  }
 ],
 "metadata": {
  "kernelspec": {
   "display_name": "Python 3",
   "language": "python",
   "name": "python3"
  },
  "language_info": {
   "codemirror_mode": {
    "name": "ipython",
    "version": 3
   },
   "file_extension": ".py",
   "mimetype": "text/x-python",
   "name": "python",
   "nbconvert_exporter": "python",
   "pygments_lexer": "ipython3",
   "version": "3.7.4"
  }
 },
 "nbformat": 4,
 "nbformat_minor": 2
}
